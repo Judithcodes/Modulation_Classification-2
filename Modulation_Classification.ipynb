{
  "nbformat": 4,
  "nbformat_minor": 0,
  "metadata": {
    "colab": {
      "name": "Modulation_Classification.ipynb",
      "version": "0.3.2",
      "provenance": [],
      "collapsed_sections": []
    },
    "kernelspec": {
      "name": "python3",
      "display_name": "Python 3"
    },
    "accelerator": "GPU"
  },
  "cells": [
    {
      "cell_type": "code",
      "metadata": {
        "id": "v9pd3IynlqoF",
        "colab_type": "code",
        "colab": {}
      },
      "source": [
        "import _pickle as cPickle\n",
        "import numpy as np"
      ],
      "execution_count": 0,
      "outputs": []
    },
    {
      "cell_type": "code",
      "metadata": {
        "id": "ma1o-_yHbTzI",
        "colab_type": "code",
        "outputId": "0541ea4b-a57d-4e5c-b95b-b630f861b689",
        "colab": {
          "base_uri": "https://localhost:8080/",
          "height": 204
        }
      },
      "source": [
        "!wget http://opendata.deepsig.io/datasets/2016.10/RML2016.10b.tar.bz2\n",
        "!tar jxf RML2016.10b.tar.bz2"
      ],
      "execution_count": 0,
      "outputs": [
        {
          "output_type": "stream",
          "text": [
            "--2019-05-08 00:33:03--  http://opendata.deepsig.io/datasets/2016.10/RML2016.10b.tar.bz2\n",
            "Resolving opendata.deepsig.io (opendata.deepsig.io)... 52.14.91.165\n",
            "Connecting to opendata.deepsig.io (opendata.deepsig.io)|52.14.91.165|:80... connected.\n",
            "HTTP request sent, awaiting response... 200 OK\n",
            "Length: 1245608913 (1.2G) [application/x-bzip2]\n",
            "Saving to: ‘RML2016.10b.tar.bz2’\n",
            "\n",
            "RML2016.10b.tar.bz2 100%[===================>]   1.16G  9.61MB/s    in 2m 30s  \n",
            "\n",
            "2019-05-08 00:35:38 (7.94 MB/s) - ‘RML2016.10b.tar.bz2’ saved [1245608913/1245608913]\n",
            "\n"
          ],
          "name": "stdout"
        }
      ]
    },
    {
      "cell_type": "code",
      "metadata": {
        "id": "6NBrc0elilyL",
        "colab_type": "code",
        "outputId": "1f49aabe-2619-48ab-cc97-d8d8ff346eea",
        "colab": {
          "base_uri": "https://localhost:8080/",
          "height": 54
        }
      },
      "source": [
        "Xd = cPickle.load(open(\"RML2016.10b.dat\",'rb'), encoding='bytes')\n",
        "snrs,mods = map(lambda j: sorted(list(set(map(lambda x: x[j], Xd.keys())))), [1,0])\n",
        "X = []  \n",
        "lbl = []\n",
        "for mod in mods:\n",
        "    for snr in snrs:\n",
        "        X.append(Xd[(mod,snr)])\n",
        "        for i in range(Xd[(mod,snr)].shape[0]):  lbl.append((mod,snr))\n",
        "X = np.vstack(X)\n",
        "print(Xd.keys())"
      ],
      "execution_count": 0,
      "outputs": [
        {
          "output_type": "stream",
          "text": [
            "dict_keys([(b'QPSK', 2), (b'PAM4', 8), (b'AM-DSB', -4), (b'GFSK', 6), (b'QAM64', 8), (b'PAM4', 18), (b'QAM64', -6), (b'QAM16', 2), (b'QAM16', -20), (b'8PSK', -18), (b'PAM4', -6), (b'WBFM', -18), (b'BPSK', 8), (b'CPFSK', 10), (b'WBFM', 6), (b'BPSK', 4), (b'BPSK', -2), (b'QPSK', -20), (b'CPFSK', -8), (b'QAM64', -20), (b'QAM16', 12), (b'GFSK', -20), (b'CPFSK', 0), (b'AM-DSB', 6), (b'BPSK', -16), (b'QPSK', -6), (b'8PSK', -12), (b'CPFSK', -18), (b'AM-DSB', -18), (b'QPSK', 8), (b'PAM4', 14), (b'WBFM', -8), (b'AM-DSB', -10), (b'GFSK', 12), (b'QAM64', 2), (b'8PSK', -10), (b'QAM64', -4), (b'GFSK', -4), (b'AM-DSB', 8), (b'PAM4', -16), (b'QPSK', -16), (b'BPSK', 16), (b'WBFM', -14), (b'CPFSK', 16), (b'WBFM', 0), (b'QPSK', 6), (b'BPSK', 14), (b'AM-DSB', -8), (b'GFSK', -10), (b'CPFSK', -2), (b'QAM16', 8), (b'QAM16', 6), (b'QAM16', -16), (b'QAM64', 18), (b'CPFSK', 6), (b'BPSK', 0), (b'BPSK', -6), (b'8PSK', -14), (b'CPFSK', -12), (b'WBFM', 10), (b'BPSK', -20), (b'PAM4', 4), (b'GFSK', 10), (b'QAM16', -6), (b'QAM64', 4), (b'PAM4', -20), (b'8PSK', 10), (b'QAM64', -10), (b'GFSK', -6), (b'AM-DSB', 2), (b'PAM4', -10), (b'QPSK', -2), (b'8PSK', -8), (b'8PSK', 0), (b'QPSK', 12), (b'8PSK', 12), (b'AM-DSB', -14), (b'GFSK', 0), (b'QAM64', 14), (b'QAM64', -8), (b'QAM16', 0), (b'GFSK', -16), (b'WBFM', 2), (b'PAM4', -4), (b'QPSK', -12), (b'WBFM', -20), (b'CPFSK', 12), (b'WBFM', 4), (b'BPSK', 10), (b'BPSK', -4), (b'QPSK', -18), (b'CPFSK', -6), (b'BPSK', -12), (b'8PSK', 16), (b'QAM16', 10), (b'QAM16', -12), (b'WBFM', -6), (b'8PSK', -20), (b'CPFSK', 2), (b'QPSK', 16), (b'AM-DSB', 4), (b'BPSK', -10), (b'WBFM', -4), (b'CPFSK', -16), (b'WBFM', -16), (b'QPSK', 10), (b'PAM4', 0), (b'AM-DSB', -12), (b'GFSK', 14), (b'QAM16', -2), (b'QAM64', 0), (b'WBFM', -10), (b'QAM64', -14), (b'GFSK', -2), (b'AM-DSB', 14), (b'PAM4', -14), (b'QPSK', -14), (b'8PSK', -4), (b'CPFSK', 18), (b'8PSK', 4), (b'QPSK', 0), (b'BPSK', 12), (b'AM-DSB', -2), (b'GFSK', 4), (b'QAM64', 10), (b'8PSK', 2), (b'QAM16', -10), (b'PAM4', 16), (b'QAM16', 4), (b'GFSK', 8), (b'QAM16', -18), (b'QAM64', 16), (b'PAM4', -8), (b'WBFM', 16), (b'WBFM', 14), (b'CPFSK', 8), (b'BPSK', 6), (b'BPSK', -8), (b'CPFSK', -10), (b'PAM4', 6), (b'QAM64', -18), (b'QAM16', 14), (b'QAM16', -8), (b'PAM4', -18), (b'AM-DSB', 18), (b'QAM64', -12), (b'AM-DSB', 0), (b'BPSK', -14), (b'QPSK', -8), (b'8PSK', -6), (b'CPFSK', -20), (b'GFSK', 16), (b'WBFM', 8), (b'QPSK', 14), (b'PAM4', 12), (b'AM-DSB', -16), (b'GFSK', 2), (b'BPSK', -18), (b'QAM64', 12), (b'QAM64', -2), (b'8PSK', 14), (b'GFSK', -14), (b'BPSK', 18), (b'PAM4', -2), (b'QPSK', -10), (b'CPFSK', 14), (b'8PSK', 8), (b'QPSK', 4), (b'AM-DSB', 16), (b'AM-DSB', -6), (b'CPFSK', -4), (b'WBFM', -2), (b'8PSK', 18), (b'GFSK', 18), (b'QAM16', -14), (b'AM-DSB', 10), (b'WBFM', -12), (b'CPFSK', 4), (b'QPSK', 18), (b'BPSK', 2), (b'AM-DSB', -20), (b'8PSK', -16), (b'CPFSK', -14), (b'WBFM', 18), (b'PAM4', 2), (b'QAM16', 18), (b'QAM16', -4), (b'QAM64', 6), (b'GFSK', -18), (b'PAM4', 10), (b'QAM64', -16), (b'QAM16', 16), (b'GFSK', -8), (b'AM-DSB', 12), (b'PAM4', -12), (b'QPSK', -4), (b'8PSK', -2), (b'GFSK', -12), (b'8PSK', 6), (b'WBFM', 12)])\n"
          ],
          "name": "stdout"
        }
      ]
    },
    {
      "cell_type": "code",
      "metadata": {
        "id": "5dTeiwxk3_ed",
        "colab_type": "code",
        "colab": {}
      },
      "source": [
        "snr_list = []\n",
        "for l in lbl:\n",
        "  snr = l[1]\n",
        "  snr_list.append(l[1])\n",
        "  "
      ],
      "execution_count": 0,
      "outputs": []
    },
    {
      "cell_type": "code",
      "metadata": {
        "id": "be2niTu-sn7M",
        "colab_type": "code",
        "colab": {}
      },
      "source": [
        "keys = set(val[0] for val in lbl)\n",
        "i = list(enumerate(list(keys)))\n",
        "dic = {}\n",
        "for ielements in i:\n",
        "  dic[ielements[1]]=ielements[0]\n",
        "newlabels = []\n",
        "for l in lbl:\n",
        "  newlabels.append(dic[l[0]])\n",
        "newlabels = np.array(newlabels)"
      ],
      "execution_count": 0,
      "outputs": []
    },
    {
      "cell_type": "markdown",
      "metadata": {
        "id": "WJJC4-7r8khN",
        "colab_type": "text"
      },
      "source": [
        "### Derivative feature"
      ]
    },
    {
      "cell_type": "code",
      "metadata": {
        "id": "mcdr0VjHeVkx",
        "colab_type": "code",
        "colab": {}
      },
      "source": [
        "diff_feature = []\n",
        "for i in range (0,len(X)):\n",
        "  diff_feature.append(np.concatenate((np.diff(X[i]), np.zeros((2,1))),axis=1))\n",
        "\n",
        "  \n",
        "diff_feature = np.array(diff_feature)"
      ],
      "execution_count": 0,
      "outputs": []
    },
    {
      "cell_type": "code",
      "metadata": {
        "id": "5AJKDJKUpxxT",
        "colab_type": "code",
        "outputId": "65c35b9a-95e9-4822-cddf-0e947a086bbf",
        "colab": {
          "base_uri": "https://localhost:8080/",
          "height": 34
        }
      },
      "source": [
        "diff_feature.shape"
      ],
      "execution_count": 0,
      "outputs": [
        {
          "output_type": "execute_result",
          "data": {
            "text/plain": [
              "(1200000, 2, 128)"
            ]
          },
          "metadata": {
            "tags": []
          },
          "execution_count": 5
        }
      ]
    },
    {
      "cell_type": "markdown",
      "metadata": {
        "id": "sGzl8RO78wEm",
        "colab_type": "text"
      },
      "source": [
        "### Integration feature"
      ]
    },
    {
      "cell_type": "code",
      "metadata": {
        "id": "gSHZ_-uMyjEK",
        "colab_type": "code",
        "colab": {}
      },
      "source": [
        "from scipy import integrate\n",
        "\n",
        "\n",
        "integral_feature = integrate.cumtrapz(X, initial=0)"
      ],
      "execution_count": 0,
      "outputs": []
    },
    {
      "cell_type": "code",
      "metadata": {
        "id": "EU1ccm9TYVFX",
        "colab_type": "code",
        "outputId": "153d0d7b-4019-40bf-a2f1-c32c456f0750",
        "colab": {
          "base_uri": "https://localhost:8080/",
          "height": 34
        }
      },
      "source": [
        "integral_feature.shape"
      ],
      "execution_count": 0,
      "outputs": [
        {
          "output_type": "execute_result",
          "data": {
            "text/plain": [
              "(1200000, 2, 128)"
            ]
          },
          "metadata": {
            "tags": []
          },
          "execution_count": 6
        }
      ]
    },
    {
      "cell_type": "code",
      "metadata": {
        "colab_type": "code",
        "id": "kolrJkTIxR12",
        "colab": {}
      },
      "source": [
        "from scipy import integrate\n",
        "integral_feature_test = []\n",
        "for i in range(0, len(X_test)):\n",
        "    integ = integrate.cumtrapz(X_test[i], initial=0)\n",
        "    integral_feature_test.append(integ)\n",
        "\n",
        "integral_feature_test = np.array(integral_feature_test)"
      ],
      "execution_count": 0,
      "outputs": []
    },
    {
      "cell_type": "markdown",
      "metadata": {
        "id": "Zmb1dibkDvtC",
        "colab_type": "text"
      },
      "source": [
        "### Split Training-Test 50-50"
      ]
    },
    {
      "cell_type": "code",
      "metadata": {
        "id": "2TqZqBURfkkf",
        "colab_type": "code",
        "colab": {}
      },
      "source": [
        "from sklearn.model_selection import StratifiedKFold\n",
        "skf = StratifiedKFold(n_splits=2, shuffle=True)\n",
        "for train, test in skf.split(X, newlabels):\n",
        "  # Training\n",
        "  X_train = X[train]\n",
        "  y_train = newlabels[train]  \n",
        "  snr_l = np.array(snr_list)\n",
        "\n",
        "  # Test\n",
        "  X_test = X[test]\n",
        "  y_test = newlabels[test]\n",
        "  snr_train = snr_l[train]\n",
        "  snr_test = snr_l[test]\n",
        "  break"
      ],
      "execution_count": 0,
      "outputs": []
    },
    {
      "cell_type": "code",
      "metadata": {
        "id": "VRA1LQXeE9EL",
        "colab_type": "code",
        "colab": {}
      },
      "source": [
        "def split(data, labels, split_percent,snr_list):\n",
        "  \n",
        "  np.random.seed(42)\n",
        "  print(data.shape)\n",
        "  snr_list = np.array(snr_list)\n",
        "  size, _, _ = data.shape\n",
        "  train_size = (size * split_percent)\n",
        "  train_idx = np.random.choice(range(0, size), size=int(train_size), replace=False)\n",
        "  test_idx = list(set(range(0,size))-set(train_idx))\n",
        "  \n",
        "  X_train = data[train_idx]\n",
        "  X_test = data[test_idx]\n",
        "  snr_train = snr_list[train_idx]\n",
        "  snr_test = snr_list[test_idx]\n",
        "  y_train = labels[train_idx]\n",
        "  y_test = labels[test_idx]\n",
        "  \n",
        "  return X_train, y_train,snr_train , X_test, y_test,snr_test"
      ],
      "execution_count": 0,
      "outputs": []
    },
    {
      "cell_type": "code",
      "metadata": {
        "id": "nku6WbeSF8ws",
        "colab_type": "code",
        "outputId": "487dc8bc-d29c-4f82-bfdf-5a602e5a5c71",
        "colab": {
          "base_uri": "https://localhost:8080/",
          "height": 34
        }
      },
      "source": [
        "# Train-Test split 50-50\n",
        "X_train, y_train,snr_train, X_test, y_test,snr_test = split(X, newlabels, 0.5,snr_list)"
      ],
      "execution_count": 0,
      "outputs": [
        {
          "output_type": "stream",
          "text": [
            "(1200000, 2, 128)\n"
          ],
          "name": "stdout"
        }
      ]
    },
    {
      "cell_type": "code",
      "metadata": {
        "id": "aLmq7iSBGNsk",
        "colab_type": "code",
        "outputId": "dcb79406-17d8-461d-e50c-66f794160f30",
        "colab": {
          "base_uri": "https://localhost:8080/",
          "height": 34
        }
      },
      "source": [
        "# Train-Validation split 95-5\n",
        "X_train, y_train,snr_train, X_valid, y_valid,snr_valid = split(X_train, y_train, 0.95,snr_train)"
      ],
      "execution_count": 0,
      "outputs": [
        {
          "output_type": "stream",
          "text": [
            "(600000, 2, 128)\n"
          ],
          "name": "stdout"
        }
      ]
    },
    {
      "cell_type": "markdown",
      "metadata": {
        "id": "xV7CFmEuNeMs",
        "colab_type": "text"
      },
      "source": [
        "# used in graph"
      ]
    },
    {
      "cell_type": "code",
      "metadata": {
        "id": "3HKKiOlGNeeh",
        "colab_type": "code",
        "colab": {}
      },
      "source": [
        "snr_values = {}\n",
        "for l in snr_test:\n",
        "  if l in snr_values:\n",
        "    snr_values[l]+=1\n",
        "  else: \n",
        "    snr_values[l]=1\n"
      ],
      "execution_count": 0,
      "outputs": []
    },
    {
      "cell_type": "code",
      "metadata": {
        "id": "Qw1d-lL_GhEj",
        "colab_type": "code",
        "outputId": "e3f7e3f6-0705-4ff3-dcfd-41c714c756e1",
        "colab": {
          "base_uri": "https://localhost:8080/",
          "height": 34
        }
      },
      "source": [
        "print(y_valid)"
      ],
      "execution_count": 0,
      "outputs": [
        {
          "output_type": "stream",
          "text": [
            "[3 5 3 ... 5 8 8]\n"
          ],
          "name": "stdout"
        }
      ]
    },
    {
      "cell_type": "code",
      "metadata": {
        "id": "R-n6STPS8d21",
        "colab_type": "code",
        "outputId": "72fee980-c6d9-401a-bddc-4ec8c32f306b",
        "colab": {
          "base_uri": "https://localhost:8080/",
          "height": 34
        }
      },
      "source": [
        "import os\n",
        "import torch\n",
        "import torchvision\n",
        "from torchvision import datasets, models, transforms\n",
        "import torch.nn as nn\n",
        "from torch.optim import lr_scheduler\n",
        "from torch.autograd import Variable\n",
        "import seaborn as sns\n",
        "from torch import optim\n",
        "import torch.nn.functional as F\n",
        "torch.__version__"
      ],
      "execution_count": 0,
      "outputs": [
        {
          "output_type": "execute_result",
          "data": {
            "text/plain": [
              "'1.1.0'"
            ]
          },
          "metadata": {
            "tags": []
          },
          "execution_count": 16
        }
      ]
    },
    {
      "cell_type": "code",
      "metadata": {
        "id": "8pdZJFpMHebL",
        "colab_type": "code",
        "outputId": "59252e4b-faea-4b86-fbd0-c6441bee1a02",
        "colab": {
          "base_uri": "https://localhost:8080/",
          "height": 34
        }
      },
      "source": [
        "X_train.shape"
      ],
      "execution_count": 0,
      "outputs": [
        {
          "output_type": "execute_result",
          "data": {
            "text/plain": [
              "(570000, 2, 128)"
            ]
          },
          "metadata": {
            "tags": []
          },
          "execution_count": 68
        }
      ]
    },
    {
      "cell_type": "code",
      "metadata": {
        "id": "uVxbNbCw6gVC",
        "colab_type": "code",
        "outputId": "a423a111-f336-4954-c338-f3a6580bba56",
        "colab": {
          "base_uri": "https://localhost:8080/",
          "height": 34
        }
      },
      "source": [
        "X.shape"
      ],
      "execution_count": 0,
      "outputs": [
        {
          "output_type": "execute_result",
          "data": {
            "text/plain": [
              "(1200000, 2, 128)"
            ]
          },
          "metadata": {
            "tags": []
          },
          "execution_count": 69
        }
      ]
    },
    {
      "cell_type": "code",
      "metadata": {
        "id": "57kEFo8AU1_3",
        "colab_type": "code",
        "outputId": "0c5539ba-039e-43b3-fe80-632b59bca965",
        "colab": {
          "base_uri": "https://localhost:8080/",
          "height": 34
        }
      },
      "source": [
        "X_valid.shape"
      ],
      "execution_count": 0,
      "outputs": [
        {
          "output_type": "execute_result",
          "data": {
            "text/plain": [
              "(30000, 2, 128)"
            ]
          },
          "metadata": {
            "tags": []
          },
          "execution_count": 70
        }
      ]
    },
    {
      "cell_type": "markdown",
      "metadata": {
        "id": "VBv7XL_e6J2E",
        "colab_type": "text"
      },
      "source": [
        "## Fully Connected Network Architecture"
      ]
    },
    {
      "cell_type": "code",
      "metadata": {
        "id": "NTxYnHgn-rPQ",
        "colab_type": "code",
        "colab": {}
      },
      "source": [
        "import torch.nn as nn\n",
        "import torch.nn.functional as F\n",
        "\n",
        "class FC_Network(nn.Module):\n",
        "    \n",
        "    def __init__(self):\n",
        "        \n",
        "        super(FC_Network, self).__init__()\n",
        "        # Layer 1\n",
        "        self.fc1 = nn.Linear(256, 512)\n",
        "        # Layer 2\n",
        "        self.fc2 = nn.Linear(512, 256)\n",
        "        # Layer 3\n",
        "        self.fc3 = nn.Linear(256, 128)\n",
        "        # Layer 4\n",
        "        self.fc4 = nn.Linear(128, 64)\n",
        "        # Layer 5\n",
        "        self.fc5 = nn.Linear(64, 10) \n",
        "        # Dropout\n",
        "        self.dropout = nn.Dropout(p=0.3)\n",
        "\n",
        " \n",
        "    \n",
        "    def forward(self, x):\n",
        "        x = x.view(x.size(0), -1)\n",
        "        x = F.relu(self.fc1(x))\n",
        "        x = self.dropout(x)\n",
        "        x = F.relu(self.fc2(x))\n",
        "        x = self.dropout(x)\n",
        "        x = F.relu(self.fc3(x))\n",
        "        x = self.dropout(x)\n",
        "        x = F.relu(self.fc4(x))\n",
        "        x = self.dropout(x)\n",
        "        x = self.fc5(x)\n",
        "        return x"
      ],
      "execution_count": 0,
      "outputs": []
    },
    {
      "cell_type": "markdown",
      "metadata": {
        "id": "FbXqRnoPNivb",
        "colab_type": "text"
      },
      "source": [
        "## Model Training"
      ]
    },
    {
      "cell_type": "code",
      "metadata": {
        "id": "W_Y1C986noYA",
        "colab_type": "code",
        "colab": {}
      },
      "source": [
        "def train_valid(e, model, train_loader, train_labels, validation_loader, validation_labels, scheduler, criterion, device, optimizer):\n",
        "  # Training loop\n",
        "  epochs = e\n",
        "\n",
        "  valid_loss_min = np.Inf # track change in validation loss\n",
        "\n",
        "\n",
        "  for epoch in range(epochs):\n",
        "\n",
        "    train_loss = 0.0\n",
        "    valid_loss = 0.0\n",
        "\n",
        "    lbliter = iter(train_labels)\n",
        "    lbl_valid = iter(validation_labels)\n",
        "\n",
        "    accuracy = 0.0\n",
        "\n",
        "    # Training mode\n",
        "    model.train()\n",
        "    for signals in train_loader:\n",
        "\n",
        "      #get corresponding labels\n",
        "      labels_snr = lbliter.next()\n",
        "\n",
        "      #clear variables\n",
        "      optimizer.zero_grad()\n",
        "      signals.unsqueeze_(1)\n",
        "\n",
        "      signals, labels = signals.to(device=device, dtype=torch.float), labels_snr.to(device)\n",
        "      #forward pass\n",
        "      output  = model(signals)\n",
        "\n",
        "      #calculate loss\n",
        "      loss = criterion(output, labels)\n",
        "\n",
        "      #backward pass\n",
        "      loss.backward()\n",
        "\n",
        "      #perform optimization step\n",
        "      optimizer.step()\n",
        "\n",
        "      #update loss\n",
        "      # Track the accuracy\n",
        "      train_loss += loss.item() * signals.size(0)\n",
        "\n",
        "    correct_predictions = 0.0\n",
        "\n",
        "    # Evaluation mode for the network\n",
        "    model.eval()\n",
        "\n",
        "    for signals in validation_loader:\n",
        "\n",
        "        # Extract labels\n",
        "        labels_snr = lbl_valid.next()\n",
        "\n",
        "        signals = signals.unsqueeze(1)\n",
        "        signals, labels = signals.to(device=device, dtype=torch.float), labels_snr.to(device)\n",
        "        # forward pass: compute predicted outputs by passing inputs to the model\n",
        "        output = model(signals)\n",
        "        # calculate the batch loss\n",
        "        loss = criterion(output, labels)\n",
        "        # update average validation loss \n",
        "        valid_loss += loss.item() * signals.size(0)\n",
        "        predictions = torch.max(output, 1)[1]\n",
        "        correct_predictions += torch.sum(predictions == labels.data)\n",
        "\n",
        "\n",
        "    train_loss = train_loss/len(train_loader.dataset)\n",
        "    valid_loss = valid_loss/len(validation_loader.dataset)\n",
        "    accuracy = correct_predictions.double() / len(validation_loader.dataset)\n",
        "\n",
        "    # Stepping the scheduler\n",
        "    scheduler.step(valid_loss)\n",
        "\n",
        "    # print training/validation statistics }\n",
        "    print(\"Epochs : {}/{}\".format(epoch+1,epochs),\n",
        "              \"Training Loss : {:.5f}\".format(train_loss),\n",
        "              \"Validation Loss : {:.5f}\".format(valid_loss),\n",
        "               \"Accuracy : {:.5f}%\".format(accuracy*100))\n",
        "\n",
        "    # Early stopping\n",
        "    if valid_loss >= train_loss:\n",
        "        break\n",
        "        \n",
        "    # save model if validation loss has decreased\n",
        "    if valid_loss <= valid_loss_min:\n",
        "\n",
        "      print('Validation loss decreased ({:.6f} --> {:.6f}).  Saving model ...'.format(\n",
        "      valid_loss_min,\n",
        "      valid_loss))\n",
        "      torch.save(model.state_dict(), 'modulation_classification.pt')\n",
        "      valid_loss_min = valid_loss"
      ],
      "execution_count": 0,
      "outputs": []
    },
    {
      "cell_type": "markdown",
      "metadata": {
        "id": "6bF0dFNq9q6d",
        "colab_type": "text"
      },
      "source": [
        "## Testing the trained Network"
      ]
    },
    {
      "cell_type": "code",
      "metadata": {
        "id": "CNplxkvzz1na",
        "colab_type": "code",
        "colab": {}
      },
      "source": [
        "def test_model(model, test_loader, test_labels, criterion, device):\n",
        "  test_loss = 0.0\n",
        "  predict_correct = [0.0 for i in range(10)]\n",
        "  class_total = [0.0 for i in range(10)]\n",
        "  correct_predictions = 0.0\n",
        "  accuracy = 0.0\n",
        "  # Evaluate the model\n",
        "  model.eval()\n",
        "\n",
        "  # Test labels\n",
        "  lbl_test = iter(test_labels)\n",
        "\n",
        "  for signals in test_loader:\n",
        "    # Test label batches\n",
        "    labels = lbl_test.next()  \n",
        "    signals = signals.unsqueeze(1)\n",
        "    signals, labels = signals.to(device=device, dtype=torch.float), labels.to(device)\n",
        "\n",
        "    #forward pass\n",
        "    output  = model(signals)\n",
        "\n",
        "    #calculate loss\n",
        "    loss = criterion(output, labels)\n",
        "\n",
        "    # update test loss \n",
        "    test_loss += loss.item()*signals.size(0)\n",
        "\n",
        "    # Probabilities to classes\n",
        "    _, prediction = torch.max(output, 1)\n",
        "\n",
        "    # compare predictions to true label\n",
        "    correct_tensor = prediction.eq(labels.data.view_as(prediction))\n",
        "    correct = np.squeeze(np.squeeze(correct_tensor.cpu().numpy()))\n",
        "\n",
        "\n",
        "    # calculate test accuracy for each object class\n",
        "    for i in range(batch_size):\n",
        "      try:\n",
        "        label = labels.data[i]\n",
        "        predict_correct[label] += correct[i].item()\n",
        "        class_total[label] += 1\n",
        "      except:\n",
        "        break\n",
        "\n",
        "\n",
        "  # average test loss\n",
        "  test_loss = test_loss/len(test_loader.dataset)\n",
        "  print('Test Loss: {:.6f}\\n'.format(test_loss))\n",
        "\n",
        "  print('\\nTest Accuracy (Overall): %2d%% (%2d/%2d)' % (\n",
        "      100. * np.sum(predict_correct) / np.sum(class_total),\n",
        "      np.sum(predict_correct), np.sum(class_total))) "
      ],
      "execution_count": 0,
      "outputs": []
    },
    {
      "cell_type": "code",
      "metadata": {
        "id": "uyBDeUlLFDaB",
        "colab_type": "code",
        "colab": {}
      },
      "source": [
        "import matplotlib.pyplot as plt\n",
        "\n",
        "def plot_confusion_matrix(cm, title='Confusion matrix', cmap=plt.cm.Blues, labels=[]):\n",
        "    plt.figure(figsize = (10,7))\n",
        "    plt.imshow(cm, interpolation='nearest', cmap=cmap)\n",
        "    plt.title(title)\n",
        "    plt.colorbar()\n",
        "    tick_marks = np.arange(len(labels))\n",
        "    plt.xticks(tick_marks, labels, rotation=45)\n",
        "    plt.yticks(tick_marks, labels)\n",
        "    plt.tight_layout()\n",
        "    plt.ylabel('True label')\n",
        "    plt.xlabel('Predicted label')"
      ],
      "execution_count": 0,
      "outputs": []
    },
    {
      "cell_type": "code",
      "metadata": {
        "id": "_7pO7bO06k0Y",
        "colab_type": "code",
        "colab": {}
      },
      "source": [
        "def prediction(model, test_loader):\n",
        "  y_pred = []\n",
        "\n",
        "  for signals in test_loader:\n",
        "\n",
        "      signals = signals.unsqueeze(1)\n",
        "      signals = signals.to(device=device, dtype=torch.float)\n",
        "\n",
        "      #forward pass\n",
        "      output  = model(signals)\n",
        "      # Probabilities to classes\n",
        "      _, prediction = torch.max(output, 1)\n",
        "      y_pred.extend(prediction.tolist())\n",
        "   \n",
        "  return y_pred"
      ],
      "execution_count": 0,
      "outputs": []
    },
    {
      "cell_type": "markdown",
      "metadata": {
        "id": "tRCBAedP5eIn",
        "colab_type": "text"
      },
      "source": [
        "## Fully Connected"
      ]
    },
    {
      "cell_type": "markdown",
      "metadata": {
        "id": "W6R3V9075hXO",
        "colab_type": "text"
      },
      "source": [
        "### With raw features"
      ]
    },
    {
      "cell_type": "code",
      "metadata": {
        "id": "36yDPtEp6FeQ",
        "colab_type": "code",
        "outputId": "05a3a111-701c-4769-d76a-e8833b954510",
        "colab": {
          "base_uri": "https://localhost:8080/",
          "height": 156
        }
      },
      "source": [
        "# Optimizer\n",
        "from torch import optim\n",
        "\n",
        "learning_rate = 0.001\n",
        "model = FC_Network()\n",
        "optimizer = optim.Adam(model.parameters(), lr=learning_rate)\n",
        "\n",
        "# Defining the scheduler\n",
        "scheduler = lr_scheduler.ReduceLROnPlateau(optimizer, 'min')\n",
        "\n",
        "# Loss function\n",
        "criterion = nn.CrossEntropyLoss()\n",
        "device = torch.device(\"cuda:0\" if torch.cuda.is_available() else \"cpu\")\n",
        "\n",
        "# Moving the model to GPU if available\n",
        "model.to(device)"
      ],
      "execution_count": 0,
      "outputs": [
        {
          "output_type": "execute_result",
          "data": {
            "text/plain": [
              "FC_Network(\n",
              "  (fc1): Linear(in_features=256, out_features=512, bias=True)\n",
              "  (fc2): Linear(in_features=512, out_features=256, bias=True)\n",
              "  (fc3): Linear(in_features=256, out_features=128, bias=True)\n",
              "  (fc4): Linear(in_features=128, out_features=64, bias=True)\n",
              "  (fc5): Linear(in_features=64, out_features=10, bias=True)\n",
              "  (dropout): Dropout(p=0.3)\n",
              ")"
            ]
          },
          "metadata": {
            "tags": []
          },
          "execution_count": 16
        }
      ]
    },
    {
      "cell_type": "code",
      "metadata": {
        "id": "KoRn627G6kle",
        "colab_type": "code",
        "colab": {}
      },
      "source": [
        "from torchvision import datasets\n",
        "import torch\n",
        "\n",
        "batch_size = 2048\n",
        "num_workers = 0\n",
        "\n",
        "# divid_e data into batches \n",
        "# Train loader\n",
        "train_loader = torch.utils.data.DataLoader(X_train, batch_size=batch_size, num_workers=num_workers)\n",
        "train_labels = torch.utils.data.DataLoader(y_train, batch_size=batch_size, num_workers=num_workers)\n",
        "\n",
        "# Validation loader\n",
        "validation_loader = torch.utils.data.DataLoader(X_valid, batch_size=batch_size, num_workers=num_workers) \n",
        "validation_labels = torch.utils.data.DataLoader(y_valid, batch_size=batch_size, num_workers=num_workers)\n",
        "\n",
        "# Test Loader \n",
        "test_loader = torch.utils.data.DataLoader(X_test, batch_size=batch_size, num_workers=num_workers)\n",
        "test_labels = torch.utils.data.DataLoader(y_test, batch_size=batch_size, num_workers=num_workers)"
      ],
      "execution_count": 0,
      "outputs": []
    },
    {
      "cell_type": "code",
      "metadata": {
        "id": "zqOMC3fR6ktm",
        "colab_type": "code",
        "colab": {}
      },
      "source": [
        "train_valid(100, model, train_loader, train_labels, validation_loader, validation_labels,scheduler,criterion,device,optimizer)"
      ],
      "execution_count": 0,
      "outputs": []
    },
    {
      "cell_type": "code",
      "metadata": {
        "id": "E_vZWCRk7PpM",
        "colab_type": "code",
        "outputId": "daffa09c-9012-46db-c1b2-4a3e782b5208",
        "colab": {
          "base_uri": "https://localhost:8080/",
          "height": 34
        }
      },
      "source": [
        "model.load_state_dict(torch.load('modulation_classification.pt'))"
      ],
      "execution_count": 0,
      "outputs": [
        {
          "output_type": "execute_result",
          "data": {
            "text/plain": [
              "IncompatibleKeys(missing_keys=[], unexpected_keys=[])"
            ]
          },
          "metadata": {
            "tags": []
          },
          "execution_count": 20
        }
      ]
    },
    {
      "cell_type": "code",
      "metadata": {
        "id": "S1ECX28e6kwt",
        "colab_type": "code",
        "outputId": "aade74ff-f9fa-412c-d8bb-19276cad484d",
        "colab": {
          "base_uri": "https://localhost:8080/",
          "height": 86
        }
      },
      "source": [
        "test_model(model, test_loader, test_labels,criterion,device)"
      ],
      "execution_count": 0,
      "outputs": [
        {
          "output_type": "stream",
          "text": [
            "Test Loss: 1.302648\n",
            "\n",
            "\n",
            "Test Accuracy (Overall): 45% (271779/600000)\n"
          ],
          "name": "stdout"
        }
      ]
    },
    {
      "cell_type": "code",
      "metadata": {
        "id": "jdsmr_YJHPSV",
        "colab_type": "code",
        "colab": {}
      },
      "source": [
        "y_pred = prediction(model, test_loader)"
      ],
      "execution_count": 0,
      "outputs": []
    },
    {
      "cell_type": "markdown",
      "metadata": {
        "id": "ckxDSqo-GMkr",
        "colab_type": "text"
      },
      "source": [
        "# used in graph"
      ]
    },
    {
      "cell_type": "markdown",
      "metadata": {
        "id": "POzn4JIEJkLd",
        "colab_type": "text"
      },
      "source": [
        "## SNR - Accuracy Curve"
      ]
    },
    {
      "cell_type": "code",
      "metadata": {
        "id": "DsT_VDDlGOPm",
        "colab_type": "code",
        "outputId": "ebe0b5df-7c3b-477e-afa1-babcb536f0e8",
        "colab": {
          "base_uri": "https://localhost:8080/",
          "height": 306
        }
      },
      "source": [
        "snr_error = {}\n",
        "for i in range(0,len(y_test)):\n",
        "  if(y_test[i] != y_pred[i] ):\n",
        "    if snr_test[i] in snr_error:\n",
        "      snr_error[snr_test[i]]+=1;\n",
        "    else:\n",
        "      snr_error[snr_test[i]]=1;\n",
        "\n",
        "for i in snr_error:\n",
        "  snr_error[i] = 1-(snr_error[i] / snr_values[i])\n",
        "import matplotlib.pylab as plt\n",
        "\n",
        "lists = sorted(snr_error.items()) # sorted by key, return a list of tuples\n",
        "print(lists)\n",
        "keys, values = zip(*lists) # unpack a list of pairs into two tuples\n",
        "\n",
        "plt.plot(keys, values)\n",
        "plt.show()"
      ],
      "execution_count": 0,
      "outputs": [
        {
          "output_type": "stream",
          "text": [
            "[(-20, 0.10529832297721653), (-18, 0.10657649253731338), (-16, 0.11639026347465564), (-14, 0.12680615343544566), (-12, 0.1517565495633625), (-10, 0.22417193088004284), (-8, 0.3033355570380254), (-6, 0.36747147784558243), (-4, 0.47532285514065475), (-2, 0.57256687535572), (0, 0.6408368591131692), (2, 0.659332954962775), (4, 0.6622791021517854), (6, 0.665165014849668), (8, 0.6642316376676849), (10, 0.6609650582362729), (12, 0.6600768074803807), (14, 0.6596181890494498), (16, 0.6604195151232201), (18, 0.6620763420014707)]\n"
          ],
          "name": "stdout"
        },
        {
          "output_type": "display_data",
          "data": {
            "image/png": "[encoded data removed]",
            "text/plain": [
              "<Figure size 432x288 with 1 Axes>"
            ]
          },
          "metadata": {
            "tags": []
          }
        }
      ]
    },
    {
      "cell_type": "code",
      "metadata": {
        "id": "ue7XODe3IjZF",
        "colab_type": "code",
        "outputId": "2500570c-fb7b-44d6-cd2d-3c0345944258",
        "colab": {
          "base_uri": "https://localhost:8080/",
          "height": 527
        }
      },
      "source": [
        "conf = np.zeros([10, 10])\n",
        "confnorm = np.zeros([10, 10])\n",
        "for i in range(0, X_test.shape[0]):\n",
        "    j = y_test[i]\n",
        "    k = y_pred[i]\n",
        "    conf[j,k] = conf[j,k] + 1\n",
        "for i in range(0, 10):\n",
        "    confnorm[i,:] = conf[i,:] / np.sum(conf[i,:])\n",
        "plot_confusion_matrix(confnorm, labels=list(keys))"
      ],
      "execution_count": 0,
      "outputs": [
        {
          "output_type": "display_data",
          "data": {
            "image/png": "[encoded data removed]",
            "text/plain": [
              "<Figure size 720x504 with 2 Axes>"
            ]
          },
          "metadata": {
            "tags": []
          }
        }
      ]
    },
    {
      "cell_type": "markdown",
      "metadata": {
        "id": "J-j36_FHMY3W",
        "colab_type": "text"
      },
      "source": [
        "## With differentiation"
      ]
    },
    {
      "cell_type": "code",
      "metadata": {
        "id": "Iv5LHkPuMlUR",
        "colab_type": "code",
        "outputId": "b94570b2-7156-418f-d044-672bdd7096d1",
        "colab": {
          "base_uri": "https://localhost:8080/",
          "height": 153
        }
      },
      "source": [
        "# Optimizer\n",
        "from torch import optim\n",
        "\n",
        "learning_rate = 0.001\n",
        "model = FC_Network()\n",
        "optimizer = optim.Adam(model.parameters(), lr=learning_rate)\n",
        "\n",
        "# Defining the scheduler\n",
        "scheduler = lr_scheduler.ReduceLROnPlateau(optimizer, 'min')\n",
        "\n",
        "# Loss function\n",
        "criterion = nn.CrossEntropyLoss()\n",
        "device = torch.device(\"cuda:0\" if torch.cuda.is_available() else \"cpu\")\n",
        "\n",
        "# Moving the model to GPU if available\n",
        "model.to(device)"
      ],
      "execution_count": 0,
      "outputs": [
        {
          "output_type": "execute_result",
          "data": {
            "text/plain": [
              "FC_Network(\n",
              "  (fc1): Linear(in_features=256, out_features=512, bias=True)\n",
              "  (fc2): Linear(in_features=512, out_features=256, bias=True)\n",
              "  (fc3): Linear(in_features=256, out_features=128, bias=True)\n",
              "  (fc4): Linear(in_features=128, out_features=64, bias=True)\n",
              "  (fc5): Linear(in_features=64, out_features=10, bias=True)\n",
              "  (dropout): Dropout(p=0.3)\n",
              ")"
            ]
          },
          "metadata": {
            "tags": []
          },
          "execution_count": 15
        }
      ]
    },
    {
      "cell_type": "code",
      "metadata": {
        "id": "EQlf3lzuM4Ed",
        "colab_type": "code",
        "colab": {}
      },
      "source": [
        "from torchvision import datasets\n",
        "import torch\n",
        "\n",
        "batch_size = 1500\n",
        "num_workers = 0\n",
        "\n",
        "# divide data into batches \n",
        "# Train loader\n",
        "train_loader = torch.utils.data.DataLoader(X_train, batch_size=batch_size, num_workers=num_workers)\n",
        "train_labels = torch.utils.data.DataLoader(y_train, batch_size=batch_size, num_workers=num_workers)\n",
        "\n",
        "# Validation loader\n",
        "validation_loader = torch.utils.data.DataLoader(X_valid, batch_size=batch_size, num_workers=num_workers) \n",
        "validation_labels = torch.utils.data.DataLoader(y_valid, batch_size=batch_size, num_workers=num_workers)\n",
        "\n",
        "# Test Loader \n",
        "test_loader = torch.utils.data.DataLoader(X_test, batch_size=batch_size, num_workers=num_workers)\n",
        "test_labels = torch.utils.data.DataLoader(y_test, batch_size=batch_size, num_workers=num_workers)"
      ],
      "execution_count": 0,
      "outputs": []
    },
    {
      "cell_type": "code",
      "metadata": {
        "id": "2GpE30FqM4HM",
        "colab_type": "code",
        "colab": {}
      },
      "source": [
        "train_valid(100, model, train_loader, train_labels, validation_loader, validation_labels)"
      ],
      "execution_count": 0,
      "outputs": []
    },
    {
      "cell_type": "code",
      "metadata": {
        "id": "l6orQO6hM4KI",
        "colab_type": "code",
        "outputId": "4c717fa8-a604-40f7-ae81-5070f96c126c",
        "colab": {
          "base_uri": "https://localhost:8080/",
          "height": 34
        }
      },
      "source": [
        "model.load_state_dict(torch.load('modulation_classification.pt'))"
      ],
      "execution_count": 0,
      "outputs": [
        {
          "output_type": "execute_result",
          "data": {
            "text/plain": [
              "IncompatibleKeys(missing_keys=[], unexpected_keys=[])"
            ]
          },
          "metadata": {
            "tags": []
          },
          "execution_count": 18
        }
      ]
    },
    {
      "cell_type": "code",
      "metadata": {
        "id": "MRyiCSHsM4M8",
        "colab_type": "code",
        "outputId": "1eacf522-ba44-4c4f-a227-308dfdb7223b",
        "colab": {
          "base_uri": "https://localhost:8080/",
          "height": 85
        }
      },
      "source": [
        "test_model(model, test_loader, test_labels)"
      ],
      "execution_count": 0,
      "outputs": [
        {
          "output_type": "stream",
          "text": [
            "Test Loss: 1.622487\n",
            "\n",
            "\n",
            "Test Accuracy (Overall): 33% (198814/600000)\n"
          ],
          "name": "stdout"
        }
      ]
    },
    {
      "cell_type": "code",
      "metadata": {
        "id": "BT7yhsSbM4QA",
        "colab_type": "code",
        "colab": {}
      },
      "source": [
        "y_pred = prediction(model, test_loader)"
      ],
      "execution_count": 0,
      "outputs": []
    },
    {
      "cell_type": "code",
      "metadata": {
        "id": "PTp3dxR9M4XD",
        "colab_type": "code",
        "outputId": "5bc27536-7656-456d-b05b-c099a9b3583e",
        "colab": {
          "base_uri": "https://localhost:8080/",
          "height": 527
        }
      },
      "source": [
        "conf = np.zeros([10, 10])\n",
        "confnorm = np.zeros([10, 10])\n",
        "for i in range(0, X_test.shape[0]):\n",
        "    j = y_test[i]\n",
        "    k = y_pred[i]\n",
        "    conf[j,k] = conf[j,k] + 1\n",
        "for i in range(0, 10):\n",
        "    confnorm[i,:] = conf[i,:] / np.sum(conf[i,:])\n",
        "plot_confusion_matrix(confnorm, labels=list(keys))"
      ],
      "execution_count": 0,
      "outputs": [
        {
          "output_type": "display_data",
          "data": {
            "image/png": "[encoded data removed]",
            "text/plain": [
              "<Figure size 720x504 with 2 Axes>"
            ]
          },
          "metadata": {
            "tags": []
          }
        }
      ]
    },
    {
      "cell_type": "markdown",
      "metadata": {
        "id": "VIbWVuz2Qa6U",
        "colab_type": "text"
      },
      "source": [
        "## With Integral features"
      ]
    },
    {
      "cell_type": "code",
      "metadata": {
        "id": "ogfmrgvHM4Vr",
        "colab_type": "code",
        "outputId": "12595dce-cce9-45c9-f5c4-d6591cd0614e",
        "colab": {
          "base_uri": "https://localhost:8080/",
          "height": 153
        }
      },
      "source": [
        "# Optimizer\n",
        "from torch import optim\n",
        "\n",
        "learning_rate = 0.001\n",
        "model = FC_Network()\n",
        "optimizer = optim.Adam(model.parameters(), lr=learning_rate)\n",
        "\n",
        "# Defining the scheduler\n",
        "scheduler = lr_scheduler.ReduceLROnPlateau(optimizer, 'min')\n",
        "\n",
        "# Loss function\n",
        "criterion = nn.CrossEntropyLoss()\n",
        "device = torch.device(\"cuda:0\" if torch.cuda.is_available() else \"cpu\")\n",
        "\n",
        "# Moving the model to GPU if available\n",
        "model.to(device)"
      ],
      "execution_count": 0,
      "outputs": [
        {
          "output_type": "execute_result",
          "data": {
            "text/plain": [
              "FC_Network(\n",
              "  (fc1): Linear(in_features=256, out_features=512, bias=True)\n",
              "  (fc2): Linear(in_features=512, out_features=256, bias=True)\n",
              "  (fc3): Linear(in_features=256, out_features=128, bias=True)\n",
              "  (fc4): Linear(in_features=128, out_features=64, bias=True)\n",
              "  (fc5): Linear(in_features=64, out_features=10, bias=True)\n",
              "  (dropout): Dropout(p=0.3)\n",
              ")"
            ]
          },
          "metadata": {
            "tags": []
          },
          "execution_count": 16
        }
      ]
    },
    {
      "cell_type": "code",
      "metadata": {
        "id": "UQTO8mVBQZgi",
        "colab_type": "code",
        "colab": {}
      },
      "source": [
        "from torchvision import datasets\n",
        "import torch\n",
        "\n",
        "batch_size = 2048\n",
        "num_workers = 0\n",
        "\n",
        "# divide data into batches \n",
        "# Train loader\n",
        "train_loader = torch.utils.data.DataLoader(X_train, batch_size=batch_size, num_workers=num_workers)\n",
        "train_labels = torch.utils.data.DataLoader(y_train, batch_size=batch_size, num_workers=num_workers)\n",
        "\n",
        "# Validation loader\n",
        "validation_loader = torch.utils.data.DataLoader(X_valid, batch_size=batch_size, num_workers=num_workers) \n",
        "validation_labels = torch.utils.data.DataLoader(y_valid, batch_size=batch_size, num_workers=num_workers)\n",
        "\n",
        "# Test Loader \n",
        "test_loader = torch.utils.data.DataLoader(X_test, batch_size=batch_size, num_workers=num_workers)\n",
        "test_labels = torch.utils.data.DataLoader(y_test, batch_size=batch_size, num_workers=num_workers)"
      ],
      "execution_count": 0,
      "outputs": []
    },
    {
      "cell_type": "code",
      "metadata": {
        "id": "aRRg8ew3QZjk",
        "colab_type": "code",
        "colab": {}
      },
      "source": [
        "train_valid(100, model, train_loader, train_labels, validation_loader, validation_labels)"
      ],
      "execution_count": 0,
      "outputs": []
    },
    {
      "cell_type": "code",
      "metadata": {
        "id": "Z7Khz2YPQZmj",
        "colab_type": "code",
        "outputId": "bcbbcd03-5d69-4a31-8696-e479681cf832",
        "colab": {
          "base_uri": "https://localhost:8080/",
          "height": 34
        }
      },
      "source": [
        "model.load_state_dict(torch.load('modulation_classification.pt'))"
      ],
      "execution_count": 0,
      "outputs": [
        {
          "output_type": "execute_result",
          "data": {
            "text/plain": [
              "IncompatibleKeys(missing_keys=[], unexpected_keys=[])"
            ]
          },
          "metadata": {
            "tags": []
          },
          "execution_count": 20
        }
      ]
    },
    {
      "cell_type": "code",
      "metadata": {
        "id": "rYsVZtfpQZqP",
        "colab_type": "code",
        "outputId": "054a30d6-00be-4a97-b9e7-219e6855c3ad",
        "colab": {
          "base_uri": "https://localhost:8080/",
          "height": 85
        }
      },
      "source": [
        "test_model(model, test_loader, test_labels)"
      ],
      "execution_count": 0,
      "outputs": [
        {
          "output_type": "stream",
          "text": [
            "Test Loss: 1.222990\n",
            "\n",
            "\n",
            "Test Accuracy (Overall): 48% (292561/600000)\n"
          ],
          "name": "stdout"
        }
      ]
    },
    {
      "cell_type": "code",
      "metadata": {
        "id": "dFS0zUNUQZtm",
        "colab_type": "code",
        "colab": {}
      },
      "source": [
        "y_pred = prediction(model, test_loader)"
      ],
      "execution_count": 0,
      "outputs": []
    },
    {
      "cell_type": "code",
      "metadata": {
        "id": "jIfG_dzaQZww",
        "colab_type": "code",
        "outputId": "90d72948-7f71-4487-fe19-0373dd833923",
        "colab": {
          "base_uri": "https://localhost:8080/",
          "height": 527
        }
      },
      "source": [
        "conf = np.zeros([10, 10])\n",
        "confnorm = np.zeros([10, 10])\n",
        "for i in range(0, X_test.shape[0]):\n",
        "    j = y_test[i]\n",
        "    k = y_pred[i]\n",
        "    conf[j,k] = conf[j,k] + 1\n",
        "for i in range(0, 10):\n",
        "    confnorm[i,:] = conf[i,:] / np.sum(conf[i,:])\n",
        "plot_confusion_matrix(confnorm, labels=list(keys))"
      ],
      "execution_count": 0,
      "outputs": [
        {
          "output_type": "display_data",
          "data": {
            "image/png": "[encoded data removed]",
            "text/plain": [
              "<Figure size 720x504 with 2 Axes>"
            ]
          },
          "metadata": {
            "tags": []
          }
        }
      ]
    },
    {
      "cell_type": "markdown",
      "metadata": {
        "id": "USUCBs0AU9ee",
        "colab_type": "text"
      },
      "source": [
        "## Integral features gets the best test accuracy compared to the raw features and first derivative features."
      ]
    },
    {
      "cell_type": "markdown",
      "metadata": {
        "id": "4Nsrjzp3VO0p",
        "colab_type": "text"
      },
      "source": [
        "# Convolutional Neural Network"
      ]
    },
    {
      "cell_type": "code",
      "metadata": {
        "id": "5jyZyMkTfcBS",
        "colab_type": "code",
        "colab": {}
      },
      "source": [
        "class CNN_Network(nn.Module):\n",
        "  \n",
        "  def __init__(self):\n",
        "    \n",
        "    super(CNN_Network, self).__init__()\n",
        "     \n",
        "    # Conv1 layer\n",
        "    self.conv1 = nn.Conv2d(in_channels=1, out_channels=128, kernel_size=(1, 3), stride=1, padding=(0, 2))\n",
        "    # Conv2 layer\n",
        "    self.conv2 = nn.Conv2d(in_channels=128, out_channels=16, kernel_size=(2, 3), stride=1, padding=(0, 2))\n",
        "    # Dense layer 1\n",
        "    self.fc1 = nn.Linear(16 * 1 * 132, 128)\n",
        "    # Dense layer 2\n",
        "    self.fc2 = nn.Linear(128, 10)\n",
        "    # Drop out\n",
        "    self.dropout = nn.Dropout(p=0.23)\n",
        "    \n",
        "  def forward(self, x):\n",
        "    # Layer 1\n",
        "    x = F.relu(self.conv1(x))\n",
        "    # Layer 2\n",
        "    x = F.relu(self.conv2(x))\n",
        "#     print(x.shape)\n",
        "    # Dense layer 1\n",
        "    x = x.view(-1, 16 * 1 * 132)\n",
        "    x = self.dropout(x)\n",
        "    x = F.relu(self.fc1(x))\n",
        "    x = self.dropout(x)\n",
        "    # Dense layer 2\n",
        "    x = self.fc2(x)\n",
        "    # returning output\n",
        "    return x  "
      ],
      "execution_count": 0,
      "outputs": []
    },
    {
      "cell_type": "markdown",
      "metadata": {
        "id": "Im8SAx60VSfv",
        "colab_type": "text"
      },
      "source": [
        "### Raw Features"
      ]
    },
    {
      "cell_type": "code",
      "metadata": {
        "id": "ODyB3h-YQZzn",
        "colab_type": "code",
        "outputId": "f3bc9ecb-8a74-47cd-f1fc-44ec35a786ae",
        "colab": {
          "base_uri": "https://localhost:8080/",
          "height": 136
        }
      },
      "source": [
        "# Optimizer\n",
        "from torch import optim\n",
        "\n",
        "learning_rate = 0.0001\n",
        "\n",
        "model = CNN_Network()\n",
        "\n",
        "optimizer = optim.Adam(model.parameters(), lr=learning_rate)\n",
        "\n",
        "# Defining the scheduler\n",
        "scheduler = lr_scheduler.ReduceLROnPlateau(optimizer, 'min')\n",
        "\n",
        "# Loss function\n",
        "criterion = nn.CrossEntropyLoss()\n",
        "device = torch.device(\"cuda:0\" if torch.cuda.is_available() else \"cpu\")\n",
        "\n",
        "# Moving the model to GPU if available\n",
        "model.to(device)"
      ],
      "execution_count": 0,
      "outputs": [
        {
          "output_type": "execute_result",
          "data": {
            "text/plain": [
              "CNN_Network(\n",
              "  (conv1): Conv2d(1, 128, kernel_size=(1, 3), stride=(1, 1), padding=(0, 2))\n",
              "  (conv2): Conv2d(128, 16, kernel_size=(2, 3), stride=(1, 1), padding=(0, 2))\n",
              "  (fc1): Linear(in_features=2112, out_features=128, bias=True)\n",
              "  (fc2): Linear(in_features=128, out_features=10, bias=True)\n",
              "  (dropout): Dropout(p=0.23)\n",
              ")"
            ]
          },
          "metadata": {
            "tags": []
          },
          "execution_count": 22
        }
      ]
    },
    {
      "cell_type": "code",
      "metadata": {
        "id": "sXN3R9RqQaTC",
        "colab_type": "code",
        "colab": {}
      },
      "source": [
        "from torchvision import datasets\n",
        "import torch\n",
        "\n",
        "batch_size = 512\n",
        "num_workers = 0\n",
        "\n",
        "# divide data into batches \n",
        "# Train loader\n",
        "train_loader = torch.utils.data.DataLoader(X_train, batch_size=batch_size, num_workers=num_workers)\n",
        "train_labels = torch.utils.data.DataLoader(y_train, batch_size=batch_size, num_workers=num_workers)\n",
        "\n",
        "# Validation loader\n",
        "validation_loader = torch.utils.data.DataLoader(X_valid, batch_size=batch_size, num_workers=num_workers) \n",
        "validation_labels = torch.utils.data.DataLoader(y_valid, batch_size=batch_size, num_workers=num_workers)\n",
        "\n",
        "# Test Loader \n",
        "test_loader = torch.utils.data.DataLoader(X_test, batch_size=batch_size, num_workers=num_workers)\n",
        "test_labels = torch.utils.data.DataLoader(y_test, batch_size=batch_size, num_workers=num_workers)"
      ],
      "execution_count": 0,
      "outputs": []
    },
    {
      "cell_type": "code",
      "metadata": {
        "id": "8WRuCSPSM4T6",
        "colab_type": "code",
        "colab": {}
      },
      "source": [
        "train_valid(110, model, train_loader, train_labels, validation_loader, validation_labels, scheduler, criterion, device, optimizer)"
      ],
      "execution_count": 0,
      "outputs": []
    },
    {
      "cell_type": "code",
      "metadata": {
        "id": "TIf6oJwTVmCr",
        "colab_type": "code",
        "outputId": "892a363d-07f3-42bd-8398-bfc7e01f490e",
        "colab": {
          "base_uri": "https://localhost:8080/",
          "height": 34
        }
      },
      "source": [
        "model.load_state_dict(torch.load('modulation_classification.pt'))"
      ],
      "execution_count": 0,
      "outputs": [
        {
          "output_type": "execute_result",
          "data": {
            "text/plain": [
              "IncompatibleKeys(missing_keys=[], unexpected_keys=[])"
            ]
          },
          "metadata": {
            "tags": []
          },
          "execution_count": 25
        }
      ]
    },
    {
      "cell_type": "code",
      "metadata": {
        "id": "xkiB4A9kVmFt",
        "colab_type": "code",
        "outputId": "897916d9-8224-4e42-b52a-2905f0645d08",
        "colab": {
          "base_uri": "https://localhost:8080/",
          "height": 85
        }
      },
      "source": [
        "test_model(model, test_loader, test_labels, criterion, device)"
      ],
      "execution_count": 0,
      "outputs": [
        {
          "output_type": "stream",
          "text": [
            "Test Loss: 1.134167\n",
            "\n",
            "\n",
            "Test Accuracy (Overall): 52% (316360/600000)\n"
          ],
          "name": "stdout"
        }
      ]
    },
    {
      "cell_type": "code",
      "metadata": {
        "id": "bqcqgM7KVmJf",
        "colab_type": "code",
        "colab": {}
      },
      "source": [
        "y_pred = prediction(model, test_loader)"
      ],
      "execution_count": 0,
      "outputs": []
    },
    {
      "cell_type": "code",
      "metadata": {
        "id": "lCRhk-3cJ0LJ",
        "colab_type": "code",
        "outputId": "78c416e1-f43c-4188-e52e-224c4b040482",
        "colab": {
          "base_uri": "https://localhost:8080/",
          "height": 306
        }
      },
      "source": [
        "snr_error = {}\n",
        "for i in range(0,len(y_test)):\n",
        "  if(y_test[i] != y_pred[i] ):\n",
        "    if snr_test[i] in snr_error:\n",
        "      snr_error[snr_test[i]]+=1;\n",
        "    else:\n",
        "      snr_error[snr_test[i]]=1;\n",
        "\n",
        "for i in snr_error:\n",
        "  snr_error[i] = 1-(snr_error[i] / snr_values[i])\n",
        "import matplotlib.pylab as plt\n",
        "\n",
        "lists = sorted(snr_error.items()) # sorted by key, return a list of tuples\n",
        "print(lists)\n",
        "keys, values = zip(*lists) # unpack a list of pairs into two tuples\n",
        "\n",
        "plt.plot(keys, values)\n",
        "plt.show()"
      ],
      "execution_count": 0,
      "outputs": [
        {
          "output_type": "stream",
          "text": [
            "[(-20, 0.10556182385345458), (-18, 0.10640931290559974), (-16, 0.11764116271299696), (-14, 0.13024592354985298), (-12, 0.17158320248555103), (-10, 0.28506651552028806), (-8, 0.3920726837060703), (-6, 0.4871820582238712), (-4, 0.579392566937525), (-2, 0.659889155982906), (0, 0.7168538579118762), (2, 0.7434027893909495), (4, 0.7484774867716064), (6, 0.756836165737371), (8, 0.7570530819628293), (10, 0.7587694554143298), (12, 0.7542392644168304), (14, 0.7543034957627118), (16, 0.7572564679037617), (18, 0.7592549630464323)]\n"
          ],
          "name": "stdout"
        },
        {
          "output_type": "display_data",
          "data": {
            "image/png": "[encoded data removed]",
            "text/plain": [
              "<Figure size 432x288 with 1 Axes>"
            ]
          },
          "metadata": {
            "tags": []
          }
        }
      ]
    },
    {
      "cell_type": "code",
      "metadata": {
        "id": "xuUJDL7zVmPg",
        "colab_type": "code",
        "outputId": "ef3793e0-4f2e-472d-c436-2a00b4b99127",
        "colab": {
          "base_uri": "https://localhost:8080/",
          "height": 527
        }
      },
      "source": [
        "conf = np.zeros([10, 10])\n",
        "confnorm = np.zeros([10, 10])\n",
        "for i in range(0, X_test.shape[0]):\n",
        "    j = y_test[i]\n",
        "    k = y_pred[i]\n",
        "    conf[j,k] = conf[j,k] + 1\n",
        "for i in range(0, 10):\n",
        "    confnorm[i,:] = conf[i,:] / np.sum(conf[i,:])\n",
        "plot_confusion_matrix(confnorm, labels=list(keys))"
      ],
      "execution_count": 0,
      "outputs": [
        {
          "output_type": "display_data",
          "data": {
            "image/png": "[encoded data removed]",
            "text/plain": [
              "<Figure size 720x504 with 2 Axes>"
            ]
          },
          "metadata": {
            "tags": []
          }
        }
      ]
    }
  ]
}